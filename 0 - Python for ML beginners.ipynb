{
 "cells": [
  {
   "cell_type": "markdown",
   "metadata": {},
   "source": [
    "#Heading 1\n",
    "Welcome to Python\n",
    "\n",
    "Welcome to your first introduction to Python! SO this tutorial is not designed to be an all encompassing tutorial of the language, but it should function to get you up and running with the skills you'll need to follow along with the next lesson on building your first neural network.\n",
    "\n",
    "Let's start off with talking about some of the tools of the trade fo rdata science, as it were. Before we even get to playing around with Machine Learning, we need to have an understanding of two Python libraries that data scientists use to structure their data--pandas and numpy. Let's start by importing these two, a priori.\n"
   ]
  },
  {
   "cell_type": "code",
   "execution_count": 4,
   "metadata": {},
   "outputs": [],
   "source": [
    ">>> import pandas as pd\n",
    ">>> import numpy as np"
   ]
  },
  {
   "cell_type": "markdown",
   "metadata": {},
   "source": [
    "\n",
    "Cool! while both pandas and numpy will come up later, let's move on and start digging into the basics of python. \n",
    "\n",
    "We'd be remiss if we didn't start off by talking about the different data types that Python uses--Integers, Strings, and Floats. \n",
    "\n",
    "Integers and floats are actually very similar to one another--they're both kinds of numbers. But while a float has a decimal, an integer is just that--an integer. To play with these, let's create a couple of variables . . .\n"
   ]
  },
  {
   "cell_type": "code",
   "execution_count": 5,
   "metadata": {},
   "outputs": [],
   "source": [
    ">>> a = 1\n",
    ">>> b = 1.001"
   ]
  },
  {
   "cell_type": "markdown",
   "metadata": {},
   "source": [
    "\n",
    "A variable is just a way of staring some value to be used later. And here we have a which is assigned an integer, and b which is assigned a float. If we tell the program, then, to print a using the following\n"
   ]
  },
  {
   "cell_type": "code",
   "execution_count": 6,
   "metadata": {},
   "outputs": [
    {
     "name": "stdout",
     "output_type": "stream",
     "text": [
      "1\n"
     ]
    }
   ],
   "source": [
    ">>> print(a)"
   ]
  },
  {
   "cell_type": "markdown",
   "metadata": {},
   "source": [
    "The system will print out the value assigned to a. The same would happen if we told the system to print b, only it would be 1.001 instead. Makes sense? \n",
    "\n",
    "An important thing to consider though: in Python you don't need to declare variable types, so you can easily and accidentally over-write what you assinged to that variable. So if I write the following code . . ."
   ]
  },
  {
   "cell_type": "code",
   "execution_count": 7,
   "metadata": {},
   "outputs": [
    {
     "name": "stdout",
     "output_type": "stream",
     "text": [
      "1\n",
      "2.34\n"
     ]
    }
   ],
   "source": [
    ">>> print(a)\n",
    ">>> a=2.34\n",
    ">>> print(a)"
   ]
  },
  {
   "cell_type": "markdown",
   "metadata": {},
   "source": [
    "\n",
    "you'll notice that the system prints what we assigned to a first--1--and then prints the last thing we assigned to a when we tell it to print again. While this seems trivial with numbers, what if we accidentally re-wrote the variable to a string?--a letter or word or even sentence. Bad news. Bad news would happen. Check out this code and the output.\n"
   ]
  },
  {
   "cell_type": "code",
   "execution_count": 8,
   "metadata": {
    "scrolled": true
   },
   "outputs": [
    {
     "name": "stdout",
     "output_type": "stream",
     "text": [
      "3.54\n"
     ]
    },
    {
     "ename": "TypeError",
     "evalue": "must be str, not float",
     "output_type": "error",
     "traceback": [
      "\u001b[0;31m---------------------------------------------------------------------------\u001b[0m",
      "\u001b[0;31mTypeError\u001b[0m                                 Traceback (most recent call last)",
      "\u001b[0;32m<ipython-input-8-f1071e9523a0>\u001b[0m in \u001b[0;36m<module>\u001b[0;34m()\u001b[0m\n\u001b[1;32m      2\u001b[0m \u001b[0mprint\u001b[0m\u001b[0;34m(\u001b[0m\u001b[0mc\u001b[0m\u001b[0;34m)\u001b[0m\u001b[0;34m\u001b[0m\u001b[0m\n\u001b[1;32m      3\u001b[0m \u001b[0ma\u001b[0m \u001b[0;34m=\u001b[0m \u001b[0;34m'Hello World!'\u001b[0m\u001b[0;34m\u001b[0m\u001b[0m\n\u001b[0;32m----> 4\u001b[0;31m \u001b[0mc\u001b[0m \u001b[0;34m=\u001b[0m \u001b[0ma\u001b[0m \u001b[0;34m+\u001b[0m \u001b[0;36m1.2\u001b[0m\u001b[0;34m\u001b[0m\u001b[0m\n\u001b[0m\u001b[1;32m      5\u001b[0m \u001b[0mprint\u001b[0m\u001b[0;34m(\u001b[0m\u001b[0mc\u001b[0m\u001b[0;34m)\u001b[0m\u001b[0;34m\u001b[0m\u001b[0m\n",
      "\u001b[0;31mTypeError\u001b[0m: must be str, not float"
     ]
    }
   ],
   "source": [
    ">>> c = a + 1.2\n",
    ">>> print(c)\n",
    ">>> a = 'Hello World!'\n",
    ">>> c = a + 1.2\n",
    ">>> print(c)"
   ]
  },
  {
   "cell_type": "markdown",
   "metadata": {},
   "source": [
    "\n",
    "We get an error because one can't add a string to an integer or float--that's just silliness. However, one could add a string to a string, a float to a float, or an int to an int if one so chose. \n",
    "\n",
    "Let's mosy on along and start talking about lists, tuples, and dictionaries--important data types if you're trying to look at data sheets that consist of more than just a single data point . . .\n",
    "\n",
    "Lists are easy. They're collections of items where each item has a particular place in the collection. An important difference between python and other languages though is that in python, lists don't need to contain the same data type of items--you can put whatever you like into one, so you can be a logical human being and create a list like lista\n"
   ]
  },
  {
   "cell_type": "code",
   "execution_count": 9,
   "metadata": {},
   "outputs": [],
   "source": [
    ">>> lista = [1,2,3]"
   ]
  },
  {
   "cell_type": "markdown",
   "metadata": {},
   "source": [
    "\n",
    "or be a maniac and create a list like listb\n"
   ]
  },
  {
   "cell_type": "code",
   "execution_count": 10,
   "metadata": {},
   "outputs": [],
   "source": [
    ">>> listb = [1, 'Henry', 3.54, 'hello']"
   ]
  },
  {
   "cell_type": "markdown",
   "metadata": {},
   "source": [
    "\n",
    "In any case, here are some things you should know about lists.\n"
   ]
  },
  {
   "cell_type": "code",
   "execution_count": 11,
   "metadata": {},
   "outputs": [
    {
     "name": "stdout",
     "output_type": "stream",
     "text": [
      "[1, 'Henry', 3.54, 'hello', 'Dolly']\n",
      "1\n",
      "hello\n",
      "[1, 'Henry', 3.54, 'Aw heck no', 'Dolly']\n",
      "[]\n",
      "[1]\n"
     ]
    }
   ],
   "source": [
    "#You can append anything you'd like to a list . . .\n",
    ">>> listb.append('Dolly')\n",
    ">>> print(listb)\n",
    "\n",
    "#You can summon any item in that list using it's index--the numerical\n",
    "# indicator for where it is in that list . . .\n",
    ">>> print(listb[0])\n",
    ">>> print(listb[3])\n",
    "\n",
    "#It's important to know that the first item in any list is actually at \n",
    "# point 0. So the first item is 0, the second item is at position 1, and\n",
    "# the third item is at position 2, and so on.\n",
    "\n",
    "#And you can change any item in a list like this:\n",
    ">>> listb[3] = 'Aw heck no' \n",
    ">>> print(listb)\n",
    "\n",
    "#And if you want an empty list, you can create one using the square \n",
    "# brackets\n",
    ">>> listc = []\n",
    ">>> print(listc)\n",
    ">>> listc.append(1)\n",
    ">>> print(listc)"
   ]
  },
  {
   "cell_type": "markdown",
   "metadata": {},
   "source": [
    "\n",
    "Lists are great ways to organize data, and super useful later on, but let's move on real fast to talk briefly about tuples. Tuples are like lists in that they have elements at set points--0-infinity. But unlike lists, you can't change anything in a tuple, nor add anything to it. It's like a list that's frozen in time. You know a tuple when you see the ( ) brackets around items.\n"
   ]
  },
  {
   "cell_type": "code",
   "execution_count": 12,
   "metadata": {},
   "outputs": [
    {
     "name": "stdout",
     "output_type": "stream",
     "text": [
      "(1, 2)\n",
      "(2, 3)\n"
     ]
    }
   ],
   "source": [
    ">>> tuplea = (1, 2)\n",
    ">>> print(tuplea)\n",
    "\n",
    "#And while you can't append anything to a tuple or change the elements \n",
    "# inside, you CAN change the tuple entirely.\n",
    ">>> tuplea = (2,3)\n",
    ">>> print(tuplea)"
   ]
  },
  {
   "cell_type": "markdown",
   "metadata": {},
   "source": [
    "\n",
    "This leads us to dictionaries. So dictionaries are unique in that they are unstructured, but still allow for rapid item recovery from memory . . . think of it like a real life dictionary. You can very rapidly find the defintion, or value, of a term (key). Dictionaries work exactly like you'd expect. So let's build one from scratch, just to show how they work.\n"
   ]
  },
  {
   "cell_type": "code",
   "execution_count": 13,
   "metadata": {},
   "outputs": [
    {
     "name": "stdout",
     "output_type": "stream",
     "text": [
      "{'Henry': 'The eighth'}\n"
     ]
    }
   ],
   "source": [
    "# Curly brackets mean this is a dictionary . . . yep.\n",
    ">>> dica = {}\n",
    "\n",
    "#So to create a new entry, we tell the dictionary the key like its a list\n",
    "# index, and then say what the value is after.\n",
    ">>> dica['Henry'] = 'The eighth'\n",
    ">>> print(dica)"
   ]
  },
  {
   "cell_type": "markdown",
   "metadata": {},
   "source": [
    "\n",
    "Notice the syntax though--we have the key first, separated from the value by a colon. Now, just to beat a dead horse, let's add another couple of entries.\n"
   ]
  },
  {
   "cell_type": "code",
   "execution_count": 14,
   "metadata": {},
   "outputs": [],
   "source": [
    ">>> dica['Marie'] = 'Of the Antoinette variety'\n",
    ">>> dica['Charles'] = 'Leader of the X-Men'"
   ]
  },
  {
   "cell_type": "markdown",
   "metadata": {},
   "source": [
    "\n",
    "In order to call the key for any item in the dictionary, we can now use a bit of code like the following . . .\n"
   ]
  },
  {
   "cell_type": "code",
   "execution_count": 15,
   "metadata": {},
   "outputs": [
    {
     "name": "stdout",
     "output_type": "stream",
     "text": [
      "Of the Antoinette variety\n"
     ]
    }
   ],
   "source": [
    ">>> print(dica['Marie'])"
   ]
  },
  {
   "cell_type": "markdown",
   "metadata": {},
   "source": [
    "\n",
    "Dictionaries will come back to haunt us at a later date as well. When doing anything in Natural Language Processing (NLP) you'll need to convert your strings--all the words you care about--into some numerical entry that can be read by the computer. Remember, computers are dumb when it comes to anything but numbers, so converting words into numbers in a dictionary is a smart way to get around the dumbness. In the next lesson, we'll cover a few caveats about the python libraries pandas and numpy, and talk about how to take data from a CSV and convert it into a dictionary value.\n"
   ]
  }
 ],
 "metadata": {
  "kernelspec": {
   "display_name": "Python 3",
   "language": "python",
   "name": "python3"
  },
  "language_info": {
   "codemirror_mode": {
    "name": "ipython",
    "version": 3
   },
   "file_extension": ".py",
   "mimetype": "text/x-python",
   "name": "python",
   "nbconvert_exporter": "python",
   "pygments_lexer": "ipython3",
   "version": "3.6.5"
  }
 },
 "nbformat": 4,
 "nbformat_minor": 2
}
